{
  "nbformat": 4,
  "nbformat_minor": 0,
  "metadata": {
    "colab": {
      "name": "IRIS Prediction.ipynb",
      "provenance": [],
      "authorship_tag": "ABX9TyN/L1CzWPmbrO8aP7S5SIY1",
      "include_colab_link": true
    },
    "kernelspec": {
      "name": "python3",
      "display_name": "Python 3"
    },
    "language_info": {
      "name": "python"
    }
  },
  "cells": [
    {
      "cell_type": "markdown",
      "metadata": {
        "id": "view-in-github",
        "colab_type": "text"
      },
      "source": [
        "<a href=\"https://colab.research.google.com/github/1205apd/titanic/blob/main/IRIS_Prediction.ipynb\" target=\"_parent\"><img src=\"https://colab.research.google.com/assets/colab-badge.svg\" alt=\"Open In Colab\"/></a>"
      ]
    },
    {
      "cell_type": "code",
      "metadata": {
        "id": "OeS0J3oAcKxO"
      },
      "source": [
        "%tensorflow_version 2.x"
      ],
      "execution_count": 1,
      "outputs": []
    },
    {
      "cell_type": "code",
      "metadata": {
        "id": "-M671Cd3cN_g"
      },
      "source": [
        "import numpy as np\n",
        "import pandas as pd\n",
        "import matplotlib.pyplot as plt\n",
        "import tensorflow as tf"
      ],
      "execution_count": 2,
      "outputs": []
    },
    {
      "cell_type": "code",
      "metadata": {
        "id": "-kpkTGrBcYtQ"
      },
      "source": [
        "column_names=['SepalLength','SepalWidth','PetalLength','PetalWidth','Species']\n",
        "species=['Setosa','Versicolor','Virginica',]"
      ],
      "execution_count": 3,
      "outputs": []
    },
    {
      "cell_type": "code",
      "metadata": {
        "id": "dKVGd0gJc0Ln"
      },
      "source": [
        "df_train_path=tf.keras.utils.get_file('iris_train.csv','https://storage.googleapis.com/download.tensorflow.org/data/iris_training.csv')\n",
        "df_test_path=tf.keras.utils.get_file('iris_test.csv','https://storage.googleapis.com/download.tensorflow.org/data/iris_test.csv')"
      ],
      "execution_count": 4,
      "outputs": []
    },
    {
      "cell_type": "code",
      "metadata": {
        "id": "GWc0JDKzdSFI"
      },
      "source": [
        "df_train=pd.read_csv(df_train_path,names=column_names,header=0)\n",
        "df_test=pd.read_csv(df_test_path,names=column_names,header=0)"
      ],
      "execution_count": 5,
      "outputs": []
    },
    {
      "cell_type": "code",
      "metadata": {
        "colab": {
          "base_uri": "https://localhost:8080/",
          "height": 203
        },
        "id": "MQTgO-nLdnYG",
        "outputId": "7661e83c-049f-4743-e9aa-7948ec7adbb6"
      },
      "source": [
        "df_train.head()"
      ],
      "execution_count": 6,
      "outputs": [
        {
          "output_type": "execute_result",
          "data": {
            "text/html": [
              "<div>\n",
              "<style scoped>\n",
              "    .dataframe tbody tr th:only-of-type {\n",
              "        vertical-align: middle;\n",
              "    }\n",
              "\n",
              "    .dataframe tbody tr th {\n",
              "        vertical-align: top;\n",
              "    }\n",
              "\n",
              "    .dataframe thead th {\n",
              "        text-align: right;\n",
              "    }\n",
              "</style>\n",
              "<table border=\"1\" class=\"dataframe\">\n",
              "  <thead>\n",
              "    <tr style=\"text-align: right;\">\n",
              "      <th></th>\n",
              "      <th>SepalLength</th>\n",
              "      <th>SepalWidth</th>\n",
              "      <th>PetalLength</th>\n",
              "      <th>PetalWidth</th>\n",
              "      <th>Species</th>\n",
              "    </tr>\n",
              "  </thead>\n",
              "  <tbody>\n",
              "    <tr>\n",
              "      <th>0</th>\n",
              "      <td>6.4</td>\n",
              "      <td>2.8</td>\n",
              "      <td>5.6</td>\n",
              "      <td>2.2</td>\n",
              "      <td>2</td>\n",
              "    </tr>\n",
              "    <tr>\n",
              "      <th>1</th>\n",
              "      <td>5.0</td>\n",
              "      <td>2.3</td>\n",
              "      <td>3.3</td>\n",
              "      <td>1.0</td>\n",
              "      <td>1</td>\n",
              "    </tr>\n",
              "    <tr>\n",
              "      <th>2</th>\n",
              "      <td>4.9</td>\n",
              "      <td>2.5</td>\n",
              "      <td>4.5</td>\n",
              "      <td>1.7</td>\n",
              "      <td>2</td>\n",
              "    </tr>\n",
              "    <tr>\n",
              "      <th>3</th>\n",
              "      <td>4.9</td>\n",
              "      <td>3.1</td>\n",
              "      <td>1.5</td>\n",
              "      <td>0.1</td>\n",
              "      <td>0</td>\n",
              "    </tr>\n",
              "    <tr>\n",
              "      <th>4</th>\n",
              "      <td>5.7</td>\n",
              "      <td>3.8</td>\n",
              "      <td>1.7</td>\n",
              "      <td>0.3</td>\n",
              "      <td>0</td>\n",
              "    </tr>\n",
              "  </tbody>\n",
              "</table>\n",
              "</div>"
            ],
            "text/plain": [
              "   SepalLength  SepalWidth  PetalLength  PetalWidth  Species\n",
              "0          6.4         2.8          5.6         2.2        2\n",
              "1          5.0         2.3          3.3         1.0        1\n",
              "2          4.9         2.5          4.5         1.7        2\n",
              "3          4.9         3.1          1.5         0.1        0\n",
              "4          5.7         3.8          1.7         0.3        0"
            ]
          },
          "metadata": {
            "tags": []
          },
          "execution_count": 6
        }
      ]
    },
    {
      "cell_type": "code",
      "metadata": {
        "colab": {
          "base_uri": "https://localhost:8080/",
          "height": 203
        },
        "id": "l-P1XHT2dtqT",
        "outputId": "acf09420-b164-46e2-ae67-5c78b4bf879f"
      },
      "source": [
        "df_test.head()"
      ],
      "execution_count": 7,
      "outputs": [
        {
          "output_type": "execute_result",
          "data": {
            "text/html": [
              "<div>\n",
              "<style scoped>\n",
              "    .dataframe tbody tr th:only-of-type {\n",
              "        vertical-align: middle;\n",
              "    }\n",
              "\n",
              "    .dataframe tbody tr th {\n",
              "        vertical-align: top;\n",
              "    }\n",
              "\n",
              "    .dataframe thead th {\n",
              "        text-align: right;\n",
              "    }\n",
              "</style>\n",
              "<table border=\"1\" class=\"dataframe\">\n",
              "  <thead>\n",
              "    <tr style=\"text-align: right;\">\n",
              "      <th></th>\n",
              "      <th>SepalLength</th>\n",
              "      <th>SepalWidth</th>\n",
              "      <th>PetalLength</th>\n",
              "      <th>PetalWidth</th>\n",
              "      <th>Species</th>\n",
              "    </tr>\n",
              "  </thead>\n",
              "  <tbody>\n",
              "    <tr>\n",
              "      <th>0</th>\n",
              "      <td>5.9</td>\n",
              "      <td>3.0</td>\n",
              "      <td>4.2</td>\n",
              "      <td>1.5</td>\n",
              "      <td>1</td>\n",
              "    </tr>\n",
              "    <tr>\n",
              "      <th>1</th>\n",
              "      <td>6.9</td>\n",
              "      <td>3.1</td>\n",
              "      <td>5.4</td>\n",
              "      <td>2.1</td>\n",
              "      <td>2</td>\n",
              "    </tr>\n",
              "    <tr>\n",
              "      <th>2</th>\n",
              "      <td>5.1</td>\n",
              "      <td>3.3</td>\n",
              "      <td>1.7</td>\n",
              "      <td>0.5</td>\n",
              "      <td>0</td>\n",
              "    </tr>\n",
              "    <tr>\n",
              "      <th>3</th>\n",
              "      <td>6.0</td>\n",
              "      <td>3.4</td>\n",
              "      <td>4.5</td>\n",
              "      <td>1.6</td>\n",
              "      <td>1</td>\n",
              "    </tr>\n",
              "    <tr>\n",
              "      <th>4</th>\n",
              "      <td>5.5</td>\n",
              "      <td>2.5</td>\n",
              "      <td>4.0</td>\n",
              "      <td>1.3</td>\n",
              "      <td>1</td>\n",
              "    </tr>\n",
              "  </tbody>\n",
              "</table>\n",
              "</div>"
            ],
            "text/plain": [
              "   SepalLength  SepalWidth  PetalLength  PetalWidth  Species\n",
              "0          5.9         3.0          4.2         1.5        1\n",
              "1          6.9         3.1          5.4         2.1        2\n",
              "2          5.1         3.3          1.7         0.5        0\n",
              "3          6.0         3.4          4.5         1.6        1\n",
              "4          5.5         2.5          4.0         1.3        1"
            ]
          },
          "metadata": {
            "tags": []
          },
          "execution_count": 7
        }
      ]
    },
    {
      "cell_type": "code",
      "metadata": {
        "id": "ZzPCkvNZdwGs"
      },
      "source": [
        "y_train = df_train.pop('Species')\n",
        "y_test = df_test.pop('Species')"
      ],
      "execution_count": 8,
      "outputs": []
    },
    {
      "cell_type": "code",
      "metadata": {
        "colab": {
          "base_uri": "https://localhost:8080/",
          "height": 203
        },
        "id": "qrJZStkrd9ne",
        "outputId": "6c3d28cb-74df-4442-97a3-3e5c57531335"
      },
      "source": [
        "df_train.head()"
      ],
      "execution_count": 9,
      "outputs": [
        {
          "output_type": "execute_result",
          "data": {
            "text/html": [
              "<div>\n",
              "<style scoped>\n",
              "    .dataframe tbody tr th:only-of-type {\n",
              "        vertical-align: middle;\n",
              "    }\n",
              "\n",
              "    .dataframe tbody tr th {\n",
              "        vertical-align: top;\n",
              "    }\n",
              "\n",
              "    .dataframe thead th {\n",
              "        text-align: right;\n",
              "    }\n",
              "</style>\n",
              "<table border=\"1\" class=\"dataframe\">\n",
              "  <thead>\n",
              "    <tr style=\"text-align: right;\">\n",
              "      <th></th>\n",
              "      <th>SepalLength</th>\n",
              "      <th>SepalWidth</th>\n",
              "      <th>PetalLength</th>\n",
              "      <th>PetalWidth</th>\n",
              "    </tr>\n",
              "  </thead>\n",
              "  <tbody>\n",
              "    <tr>\n",
              "      <th>0</th>\n",
              "      <td>6.4</td>\n",
              "      <td>2.8</td>\n",
              "      <td>5.6</td>\n",
              "      <td>2.2</td>\n",
              "    </tr>\n",
              "    <tr>\n",
              "      <th>1</th>\n",
              "      <td>5.0</td>\n",
              "      <td>2.3</td>\n",
              "      <td>3.3</td>\n",
              "      <td>1.0</td>\n",
              "    </tr>\n",
              "    <tr>\n",
              "      <th>2</th>\n",
              "      <td>4.9</td>\n",
              "      <td>2.5</td>\n",
              "      <td>4.5</td>\n",
              "      <td>1.7</td>\n",
              "    </tr>\n",
              "    <tr>\n",
              "      <th>3</th>\n",
              "      <td>4.9</td>\n",
              "      <td>3.1</td>\n",
              "      <td>1.5</td>\n",
              "      <td>0.1</td>\n",
              "    </tr>\n",
              "    <tr>\n",
              "      <th>4</th>\n",
              "      <td>5.7</td>\n",
              "      <td>3.8</td>\n",
              "      <td>1.7</td>\n",
              "      <td>0.3</td>\n",
              "    </tr>\n",
              "  </tbody>\n",
              "</table>\n",
              "</div>"
            ],
            "text/plain": [
              "   SepalLength  SepalWidth  PetalLength  PetalWidth\n",
              "0          6.4         2.8          5.6         2.2\n",
              "1          5.0         2.3          3.3         1.0\n",
              "2          4.9         2.5          4.5         1.7\n",
              "3          4.9         3.1          1.5         0.1\n",
              "4          5.7         3.8          1.7         0.3"
            ]
          },
          "metadata": {
            "tags": []
          },
          "execution_count": 9
        }
      ]
    },
    {
      "cell_type": "code",
      "metadata": {
        "colab": {
          "base_uri": "https://localhost:8080/"
        },
        "id": "cxEGt0vIeo7m",
        "outputId": "e9a1295f-4fae-458d-c975-569b53cd77b9"
      },
      "source": [
        "df_train.shape"
      ],
      "execution_count": 13,
      "outputs": [
        {
          "output_type": "execute_result",
          "data": {
            "text/plain": [
              "(120, 4)"
            ]
          },
          "metadata": {
            "tags": []
          },
          "execution_count": 13
        }
      ]
    },
    {
      "cell_type": "code",
      "metadata": {
        "id": "3R4zTty7e0y-"
      },
      "source": [
        "def input_fn(features,labels,training=True,batch_size=256):\n",
        "  dataset=tf.data.Dataset.from_tensor_slices((dict(features),labels))\n",
        "  if training:\n",
        "    dataset=dataset.shuffle(1000).repeat()\n",
        "  return dataset.batch(batch_size)"
      ],
      "execution_count": 15,
      "outputs": []
    },
    {
      "cell_type": "code",
      "metadata": {
        "colab": {
          "base_uri": "https://localhost:8080/"
        },
        "id": "_7DykUTHetWf",
        "outputId": "142e1981-f02f-44b5-e5d8-6e0b70f9f3c0"
      },
      "source": [
        "my_feature_columns=[]\n",
        "for key in df_train.keys():\n",
        "  my_feature_columns.append(tf.feature_column.numeric_column(key=key))\n",
        "print(my_feature_columns)"
      ],
      "execution_count": 16,
      "outputs": [
        {
          "output_type": "stream",
          "text": [
            "[NumericColumn(key='SepalLength', shape=(1,), default_value=None, dtype=tf.float32, normalizer_fn=None), NumericColumn(key='SepalWidth', shape=(1,), default_value=None, dtype=tf.float32, normalizer_fn=None), NumericColumn(key='PetalLength', shape=(1,), default_value=None, dtype=tf.float32, normalizer_fn=None), NumericColumn(key='PetalWidth', shape=(1,), default_value=None, dtype=tf.float32, normalizer_fn=None)]\n"
          ],
          "name": "stdout"
        }
      ]
    },
    {
      "cell_type": "code",
      "metadata": {
        "colab": {
          "base_uri": "https://localhost:8080/"
        },
        "id": "L1BSgJm_gE8Y",
        "outputId": "bbb027d0-3d10-42d6-fd83-95fa5b4defff"
      },
      "source": [
        "classifier=tf.estimator.DNNClassifier(feature_columns=my_feature_columns, hidden_units=[30,10], n_classes=3)"
      ],
      "execution_count": 18,
      "outputs": [
        {
          "output_type": "stream",
          "text": [
            "INFO:tensorflow:Using default config.\n",
            "WARNING:tensorflow:Using temporary folder as model directory: /tmp/tmp9palgx0w\n",
            "INFO:tensorflow:Using config: {'_model_dir': '/tmp/tmp9palgx0w', '_tf_random_seed': None, '_save_summary_steps': 100, '_save_checkpoints_steps': None, '_save_checkpoints_secs': 600, '_session_config': allow_soft_placement: true\n",
            "graph_options {\n",
            "  rewrite_options {\n",
            "    meta_optimizer_iterations: ONE\n",
            "  }\n",
            "}\n",
            ", '_keep_checkpoint_max': 5, '_keep_checkpoint_every_n_hours': 10000, '_log_step_count_steps': 100, '_train_distribute': None, '_device_fn': None, '_protocol': None, '_eval_distribute': None, '_experimental_distribute': None, '_experimental_max_worker_delay_secs': None, '_session_creation_timeout_secs': 7200, '_checkpoint_save_graph_def': True, '_service': None, '_cluster_spec': ClusterSpec({}), '_task_type': 'worker', '_task_id': 0, '_global_id_in_cluster': 0, '_master': '', '_evaluation_master': '', '_is_chief': True, '_num_ps_replicas': 0, '_num_worker_replicas': 1}\n"
          ],
          "name": "stdout"
        }
      ]
    },
    {
      "cell_type": "markdown",
      "metadata": {
        "id": "Nj81b3B7g-PY"
      },
      "source": [
        "## **TRAINING**"
      ]
    },
    {
      "cell_type": "code",
      "metadata": {
        "colab": {
          "base_uri": "https://localhost:8080/"
        },
        "id": "Hr30obkrg1fx",
        "outputId": "56024835-d364-4e74-8157-cebc210cb8ac"
      },
      "source": [
        "classifier.train(input_fn=lambda: input_fn(df_train,y_train,training=True),steps=5000)"
      ],
      "execution_count": 19,
      "outputs": [
        {
          "output_type": "stream",
          "text": [
            "WARNING:tensorflow:From /usr/local/lib/python3.7/dist-packages/tensorflow/python/training/training_util.py:236: Variable.initialized_value (from tensorflow.python.ops.variables) is deprecated and will be removed in a future version.\n",
            "Instructions for updating:\n",
            "Use Variable.read_value. Variables in 2.X are initialized automatically both in eager and graph (inside tf.defun) contexts.\n",
            "INFO:tensorflow:Calling model_fn.\n",
            "WARNING:tensorflow:From /usr/local/lib/python3.7/dist-packages/tensorflow/python/keras/optimizer_v2/adagrad.py:88: calling Constant.__init__ (from tensorflow.python.ops.init_ops) with dtype is deprecated and will be removed in a future version.\n",
            "Instructions for updating:\n",
            "Call initializer instance with the dtype argument instead of passing it to the constructor\n",
            "INFO:tensorflow:Done calling model_fn.\n",
            "INFO:tensorflow:Create CheckpointSaverHook.\n",
            "INFO:tensorflow:Graph was finalized.\n",
            "INFO:tensorflow:Running local_init_op.\n",
            "INFO:tensorflow:Done running local_init_op.\n",
            "INFO:tensorflow:Calling checkpoint listeners before saving checkpoint 0...\n",
            "INFO:tensorflow:Saving checkpoints for 0 into /tmp/tmp9palgx0w/model.ckpt.\n",
            "INFO:tensorflow:Calling checkpoint listeners after saving checkpoint 0...\n",
            "INFO:tensorflow:loss = 1.6436496, step = 0\n",
            "INFO:tensorflow:global_step/sec: 399.378\n",
            "INFO:tensorflow:loss = 0.8394395, step = 100 (0.255 sec)\n",
            "INFO:tensorflow:global_step/sec: 467.107\n",
            "INFO:tensorflow:loss = 0.77433664, step = 200 (0.215 sec)\n",
            "INFO:tensorflow:global_step/sec: 503.27\n",
            "INFO:tensorflow:loss = 0.7327149, step = 300 (0.198 sec)\n",
            "INFO:tensorflow:global_step/sec: 464.308\n",
            "INFO:tensorflow:loss = 0.71073955, step = 400 (0.216 sec)\n",
            "INFO:tensorflow:global_step/sec: 423.371\n",
            "INFO:tensorflow:loss = 0.68098557, step = 500 (0.236 sec)\n",
            "INFO:tensorflow:global_step/sec: 487.713\n",
            "INFO:tensorflow:loss = 0.6756896, step = 600 (0.206 sec)\n",
            "INFO:tensorflow:global_step/sec: 489.307\n",
            "INFO:tensorflow:loss = 0.65854764, step = 700 (0.203 sec)\n",
            "INFO:tensorflow:global_step/sec: 487.33\n",
            "INFO:tensorflow:loss = 0.64510834, step = 800 (0.206 sec)\n",
            "INFO:tensorflow:global_step/sec: 505.018\n",
            "INFO:tensorflow:loss = 0.61240524, step = 900 (0.198 sec)\n",
            "INFO:tensorflow:global_step/sec: 471.693\n",
            "INFO:tensorflow:loss = 0.60489213, step = 1000 (0.212 sec)\n",
            "INFO:tensorflow:global_step/sec: 463.475\n",
            "INFO:tensorflow:loss = 0.60308135, step = 1100 (0.217 sec)\n",
            "INFO:tensorflow:global_step/sec: 461.053\n",
            "INFO:tensorflow:loss = 0.58262503, step = 1200 (0.213 sec)\n",
            "INFO:tensorflow:global_step/sec: 512.959\n",
            "INFO:tensorflow:loss = 0.5727293, step = 1300 (0.195 sec)\n",
            "INFO:tensorflow:global_step/sec: 542.075\n",
            "INFO:tensorflow:loss = 0.566954, step = 1400 (0.187 sec)\n",
            "INFO:tensorflow:global_step/sec: 505.475\n",
            "INFO:tensorflow:loss = 0.5561331, step = 1500 (0.195 sec)\n",
            "INFO:tensorflow:global_step/sec: 587.143\n",
            "INFO:tensorflow:loss = 0.5490401, step = 1600 (0.170 sec)\n",
            "INFO:tensorflow:global_step/sec: 576.528\n",
            "INFO:tensorflow:loss = 0.5425699, step = 1700 (0.176 sec)\n",
            "INFO:tensorflow:global_step/sec: 555.669\n",
            "INFO:tensorflow:loss = 0.5422119, step = 1800 (0.177 sec)\n",
            "INFO:tensorflow:global_step/sec: 594.046\n",
            "INFO:tensorflow:loss = 0.52206045, step = 1900 (0.168 sec)\n",
            "INFO:tensorflow:global_step/sec: 491.67\n",
            "INFO:tensorflow:loss = 0.52901745, step = 2000 (0.209 sec)\n",
            "INFO:tensorflow:global_step/sec: 518.241\n",
            "INFO:tensorflow:loss = 0.5180222, step = 2100 (0.190 sec)\n",
            "INFO:tensorflow:global_step/sec: 539.88\n",
            "INFO:tensorflow:loss = 0.50213134, step = 2200 (0.186 sec)\n",
            "INFO:tensorflow:global_step/sec: 468.899\n",
            "INFO:tensorflow:loss = 0.5137992, step = 2300 (0.210 sec)\n",
            "INFO:tensorflow:global_step/sec: 485.452\n",
            "INFO:tensorflow:loss = 0.5037793, step = 2400 (0.209 sec)\n",
            "INFO:tensorflow:global_step/sec: 498.245\n",
            "INFO:tensorflow:loss = 0.47873756, step = 2500 (0.199 sec)\n",
            "INFO:tensorflow:global_step/sec: 528.089\n",
            "INFO:tensorflow:loss = 0.48369867, step = 2600 (0.190 sec)\n",
            "INFO:tensorflow:global_step/sec: 515.187\n",
            "INFO:tensorflow:loss = 0.48622507, step = 2700 (0.194 sec)\n",
            "INFO:tensorflow:global_step/sec: 496.86\n",
            "INFO:tensorflow:loss = 0.46003512, step = 2800 (0.199 sec)\n",
            "INFO:tensorflow:global_step/sec: 469.387\n",
            "INFO:tensorflow:loss = 0.47165632, step = 2900 (0.215 sec)\n",
            "INFO:tensorflow:global_step/sec: 484.368\n",
            "INFO:tensorflow:loss = 0.456533, step = 3000 (0.203 sec)\n",
            "INFO:tensorflow:global_step/sec: 537.129\n",
            "INFO:tensorflow:loss = 0.4650289, step = 3100 (0.187 sec)\n",
            "INFO:tensorflow:global_step/sec: 449.136\n",
            "INFO:tensorflow:loss = 0.46774733, step = 3200 (0.226 sec)\n",
            "INFO:tensorflow:global_step/sec: 507.205\n",
            "INFO:tensorflow:loss = 0.45444608, step = 3300 (0.196 sec)\n",
            "INFO:tensorflow:global_step/sec: 492.447\n",
            "INFO:tensorflow:loss = 0.4324407, step = 3400 (0.201 sec)\n",
            "INFO:tensorflow:global_step/sec: 473.607\n",
            "INFO:tensorflow:loss = 0.4486438, step = 3500 (0.214 sec)\n",
            "INFO:tensorflow:global_step/sec: 493.506\n",
            "INFO:tensorflow:loss = 0.43967327, step = 3600 (0.202 sec)\n",
            "INFO:tensorflow:global_step/sec: 523.313\n",
            "INFO:tensorflow:loss = 0.4389391, step = 3700 (0.188 sec)\n",
            "INFO:tensorflow:global_step/sec: 491.618\n",
            "INFO:tensorflow:loss = 0.42731416, step = 3800 (0.207 sec)\n",
            "INFO:tensorflow:global_step/sec: 525.746\n",
            "INFO:tensorflow:loss = 0.4197365, step = 3900 (0.190 sec)\n",
            "INFO:tensorflow:global_step/sec: 465.922\n",
            "INFO:tensorflow:loss = 0.43430224, step = 4000 (0.215 sec)\n",
            "INFO:tensorflow:global_step/sec: 492.459\n",
            "INFO:tensorflow:loss = 0.42242298, step = 4100 (0.202 sec)\n",
            "INFO:tensorflow:global_step/sec: 472.424\n",
            "INFO:tensorflow:loss = 0.42200965, step = 4200 (0.213 sec)\n",
            "INFO:tensorflow:global_step/sec: 490.302\n",
            "INFO:tensorflow:loss = 0.43188286, step = 4300 (0.203 sec)\n",
            "INFO:tensorflow:global_step/sec: 440.812\n",
            "INFO:tensorflow:loss = 0.41800818, step = 4400 (0.228 sec)\n",
            "INFO:tensorflow:global_step/sec: 475.557\n",
            "INFO:tensorflow:loss = 0.40642753, step = 4500 (0.207 sec)\n",
            "INFO:tensorflow:global_step/sec: 484.152\n",
            "INFO:tensorflow:loss = 0.39722958, step = 4600 (0.206 sec)\n",
            "INFO:tensorflow:global_step/sec: 449.969\n",
            "INFO:tensorflow:loss = 0.40731984, step = 4700 (0.225 sec)\n",
            "INFO:tensorflow:global_step/sec: 470.251\n",
            "INFO:tensorflow:loss = 0.40253097, step = 4800 (0.212 sec)\n",
            "INFO:tensorflow:global_step/sec: 472.054\n",
            "INFO:tensorflow:loss = 0.40293515, step = 4900 (0.212 sec)\n",
            "INFO:tensorflow:Calling checkpoint listeners before saving checkpoint 5000...\n",
            "INFO:tensorflow:Saving checkpoints for 5000 into /tmp/tmp9palgx0w/model.ckpt.\n",
            "INFO:tensorflow:Calling checkpoint listeners after saving checkpoint 5000...\n",
            "INFO:tensorflow:Loss for final step: 0.4021927.\n"
          ],
          "name": "stdout"
        },
        {
          "output_type": "execute_result",
          "data": {
            "text/plain": [
              "<tensorflow_estimator.python.estimator.canned.dnn.DNNClassifierV2 at 0x7f28065a57d0>"
            ]
          },
          "metadata": {
            "tags": []
          },
          "execution_count": 19
        }
      ]
    },
    {
      "cell_type": "code",
      "metadata": {
        "colab": {
          "base_uri": "https://localhost:8080/"
        },
        "id": "DCEuJWmehoWC",
        "outputId": "9679ada6-764d-443f-e8be-0f790b472e3d"
      },
      "source": [
        "eval_result=classifier.evaluate(input_fn=lambda :input_fn(df_test,y_test,training=False))\n",
        "print(\"\\n Accuracy is: {accuracy:0.3f}\\n\".format(**eval_result))"
      ],
      "execution_count": 23,
      "outputs": [
        {
          "output_type": "stream",
          "text": [
            "INFO:tensorflow:Calling model_fn.\n",
            "INFO:tensorflow:Done calling model_fn.\n",
            "INFO:tensorflow:Starting evaluation at 2021-06-26T13:39:18\n",
            "INFO:tensorflow:Graph was finalized.\n",
            "INFO:tensorflow:Restoring parameters from /tmp/tmp9palgx0w/model.ckpt-5000\n",
            "INFO:tensorflow:Running local_init_op.\n",
            "INFO:tensorflow:Done running local_init_op.\n",
            "INFO:tensorflow:Inference Time : 0.24270s\n",
            "INFO:tensorflow:Finished evaluation at 2021-06-26-13:39:19\n",
            "INFO:tensorflow:Saving dict for global step 5000: accuracy = 0.9, average_loss = 0.46202722, global_step = 5000, loss = 0.46202722\n",
            "INFO:tensorflow:Saving 'checkpoint_path' summary for global step 5000: /tmp/tmp9palgx0w/model.ckpt-5000\n",
            "\n",
            " Accuracy is: 0.900\n",
            "\n"
          ],
          "name": "stdout"
        }
      ]
    },
    {
      "cell_type": "markdown",
      "metadata": {
        "id": "gPKAXOGrjDia"
      },
      "source": [
        "# PREDICTIONS"
      ]
    },
    {
      "cell_type": "code",
      "metadata": {
        "id": "2BfomujOi9jy"
      },
      "source": [
        "def input_fn(features,batch_size=256):\n",
        "  return tf.data.Dataset.from_tensor_slices(dict(features)).batch(batch_size)"
      ],
      "execution_count": 24,
      "outputs": []
    },
    {
      "cell_type": "code",
      "metadata": {
        "colab": {
          "base_uri": "https://localhost:8080/"
        },
        "id": "g2IgdlkAjmQX",
        "outputId": "86db5290-cfce-41bc-88d3-c78d01155a5c"
      },
      "source": [
        "features=['SepalLength','SepalWidth','PetalLength','PetalWidth']\n",
        "predict={}\n",
        "print('Please type Numeric Value as prompted')\n",
        "for feature in features:\n",
        "  valid=True\n",
        "  while valid:\n",
        "    val=input(feature+\": \")\n",
        "    if not val.isdigit(): valid = False\n",
        "  predict[feature]=[float(val)]\n",
        "predictions=classifier.predict(input_fn=lambda: input_fn(predict))\n",
        "for pred_dict in predictions:\n",
        "  class_id=pred_dict['class_ids'][0]\n",
        "  probability=pred_dict['probabilities'][class_id]\n",
        "  print('Prediction is \"{}\" ({:.1f}%)'.format(species[class_id],100*probability))"
      ],
      "execution_count": 32,
      "outputs": [
        {
          "output_type": "stream",
          "text": [
            "Please type Numeric Value as prompted\n",
            "SepalLength: 2.4\n",
            "SepalWidth: 2.6\n",
            "PetalLength: 6.5\n",
            "PetalWidth: 6.3\n",
            "INFO:tensorflow:Calling model_fn.\n",
            "INFO:tensorflow:Done calling model_fn.\n",
            "INFO:tensorflow:Graph was finalized.\n",
            "INFO:tensorflow:Restoring parameters from /tmp/tmp9palgx0w/model.ckpt-5000\n",
            "INFO:tensorflow:Running local_init_op.\n",
            "INFO:tensorflow:Done running local_init_op.\n",
            "Prediction is \"Virginica\" (92.1%)\n"
          ],
          "name": "stdout"
        }
      ]
    }
  ]
}