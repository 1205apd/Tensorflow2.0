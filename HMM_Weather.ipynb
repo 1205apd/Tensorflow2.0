{
  "nbformat": 4,
  "nbformat_minor": 0,
  "metadata": {
    "colab": {
      "name": "HMM Weather.ipynb",
      "provenance": [],
      "authorship_tag": "ABX9TyNX/ZR1LprX0pRik8HjTcO2",
      "include_colab_link": true
    },
    "kernelspec": {
      "name": "python3",
      "display_name": "Python 3"
    },
    "language_info": {
      "name": "python"
    }
  },
  "cells": [
    {
      "cell_type": "markdown",
      "metadata": {
        "id": "view-in-github",
        "colab_type": "text"
      },
      "source": [
        "<a href=\"https://colab.research.google.com/github/1205apd/Tensorflow2.0/blob/main/HMM_Weather.ipynb\" target=\"_parent\"><img src=\"https://colab.research.google.com/assets/colab-badge.svg\" alt=\"Open In Colab\"/></a>"
      ]
    },
    {
      "cell_type": "markdown",
      "metadata": {
        "id": "3L4aImuyz3Ew"
      },
      "source": [
        "# HMM requires\n",
        "\n",
        "\n",
        "1.   states \n",
        "2.   observation distribution\n",
        "3.   transition distribution"
      ]
    },
    {
      "cell_type": "code",
      "metadata": {
        "id": "EKIGwU0sx7eT"
      },
      "source": [
        "%tensorflow_version 2.x"
      ],
      "execution_count": 1,
      "outputs": []
    },
    {
      "cell_type": "markdown",
      "metadata": {
        "id": "qDSUNc320u0G"
      },
      "source": [
        "# Import libraries"
      ]
    },
    {
      "cell_type": "code",
      "metadata": {
        "id": "RuyH1MFTz1Nh"
      },
      "source": [
        "import tensorflow as tf\n",
        "import numpy as np\n",
        "import pandas as pd\n",
        "import matplotlib.pyplot as plt\n",
        "import tensorflow_probability as tfp"
      ],
      "execution_count": 2,
      "outputs": []
    },
    {
      "cell_type": "markdown",
      "metadata": {
        "id": "mVoUkGCGBFNM"
      },
      "source": [
        "We will model a simple weather system and try to predict the temperature on each day given the following information.\n",
        "1. Cold days are encoded by a 0 and hot days are encoded by a 1.\n",
        "2. The first day in our sequence has an 80% chance of being cold.\n",
        "3. A cold day has a 30% chance of being followed by a hot day.\n",
        "4. A hot day has a 20% chance of being followed by a cold day.\n",
        "5. On each day the temperature is\n",
        " normally distributed with mean and standard deviation 0 and 5 on\n",
        " a cold day and mean and standard deviation 15 and 10 on a hot day."
      ]
    },
    {
      "cell_type": "markdown",
      "metadata": {
        "id": "tkRLAnic_mj2"
      },
      "source": [
        "hmm"
      ]
    },
    {
      "cell_type": "code",
      "metadata": {
        "id": "e3QVmH0X_mDn"
      },
      "source": [
        "tfd=tfp.distributions\n",
        "initial_distribution=tfd.Categorical(probs=[0.8,0.2])\n",
        "transition_distributions=tfd.Categorical(probs=[[0.7,0.3],[0.2, 0.8,]])\n",
        "observation_distribution=tfd.Normal(loc=[0.,15.],scale=[5.,10.])\n",
        "#loc is average or mean 0 for cold 15 for hot\n",
        "#scale means standard deviations 5 for cold 10 for hot"
      ],
      "execution_count": 3,
      "outputs": []
    },
    {
      "cell_type": "code",
      "metadata": {
        "id": "mgaaUWWL0tq_"
      },
      "source": [
        "model=tfd.HiddenMarkovModel(initial_distribution=initial_distribution,\n",
        "                            transition_distribution=transition_distributions,\n",
        "                            observation_distribution=observation_distribution,\n",
        "                            num_steps=7)"
      ],
      "execution_count": 4,
      "outputs": []
    },
    {
      "cell_type": "markdown",
      "metadata": {
        "id": "zz9eHx4uCwIJ"
      },
      "source": [
        "num of steps is number of days in a week so we used 7"
      ]
    },
    {
      "cell_type": "code",
      "metadata": {
        "colab": {
          "base_uri": "https://localhost:8080/"
        },
        "id": "9f1XMIC0CRrT",
        "outputId": "95e5801e-92bb-469d-8aae-77576b842d96"
      },
      "source": [
        "mean=model.mean()\n",
        "with tf.compat.v1.Session() as sess:\n",
        "  print(mean.numpy())"
      ],
      "execution_count": 5,
      "outputs": [
        {
          "output_type": "stream",
          "text": [
            "[2.9999998 5.9999995 7.4999995 8.25      8.625001  8.812501  8.90625  ]\n"
          ],
          "name": "stdout"
        }
      ]
    }
  ]
}